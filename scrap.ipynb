{
 "cells": [
  {
   "cell_type": "code",
   "execution_count": 7,
   "id": "8ae88d13-a14c-4eb6-bd50-e43c264f981b",
   "metadata": {},
   "outputs": [],
   "source": [
    "import numpy as np\n",
    "from matplotlib import pyplot as plt\n",
    "%matplotlib inline\n",
    "from astropy.io import fits\n",
    "from scipy.stats import median_abs_deviation as MAD\n",
    "from astropy.table import Table"
   ]
  },
  {
   "cell_type": "code",
   "execution_count": 12,
   "id": "0f2fbed3-cca4-4e2c-8874-94e7b82042a4",
   "metadata": {},
   "outputs": [],
   "source": [
    "import os\n",
    "homedir=os.getenv(\"HOME\")"
   ]
  },
  {
   "cell_type": "code",
   "execution_count": 37,
   "id": "66e29c26-fe03-4b3e-90ff-fedb35066df9",
   "metadata": {},
   "outputs": [],
   "source": [
    "w3_nopsf = Table.read(homedir+'/output_params_W3_nopsf.fits')\n",
    "w3_psf = Table.read(homedir+'/output_params_W3_psf.fits')\n",
    "w3_nopsf = w3_nopsf[(w3_nopsf['xc']>0)&(w3_psf['err_flag']==0)]\n",
    "w3_psf = w3_psf[(w3_psf['xc']>0)&(w3_psf['err_flag']==0)]"
   ]
  },
  {
   "cell_type": "code",
   "execution_count": 51,
   "id": "dcca21e7-21e7-428b-b04e-a053336807f4",
   "metadata": {},
   "outputs": [
    {
     "data": {
      "text/html": [
       "&lt;Column name=&apos;VFID&apos; dtype=&apos;bytes8&apos; length=6&gt;\n",
       "<table>\n",
       "<tr><td>VFID0349</td></tr>\n",
       "<tr><td>VFID1652</td></tr>\n",
       "<tr><td>VFID1984</td></tr>\n",
       "<tr><td>VFID3979</td></tr>\n",
       "<tr><td>VFID4119</td></tr>\n",
       "<tr><td>VFID6216</td></tr>\n",
       "</table>"
      ],
      "text/plain": [
       "<Column name='VFID' dtype='bytes8' length=6>\n",
       "VFID0349\n",
       "VFID1652\n",
       "VFID1984\n",
       "VFID3979\n",
       "VFID4119\n",
       "VFID6216"
      ]
     },
     "execution_count": 51,
     "metadata": {},
     "output_type": "execute_result"
    }
   ],
   "source": [
    "w3_rat = w3_psf['re']/w3_nopsf['re']\n",
    "w3_nopsf['VFID'][w3_rat>2]"
   ]
  },
  {
   "cell_type": "code",
   "execution_count": 40,
   "id": "b2e3d817-0b6f-4c89-8781-a59f7b0353aa",
   "metadata": {},
   "outputs": [],
   "source": [
    "r_nopsf = Table.read(homedir+'/output_params_r_nopsf.fits')\n",
    "r_psf = Table.read(homedir+'/output_params_r_psf.fits')\n",
    "r_nopsf = r_nopsf[(r_nopsf['xc']>0)&(r_psf['err_flag']==0)]\n",
    "r_psf = r_psf[(r_psf['xc']>0)&(r_psf['err_flag']==0)]"
   ]
  },
  {
   "cell_type": "code",
   "execution_count": 49,
   "id": "facdd986-77cc-47f7-a7af-17309480d762",
   "metadata": {},
   "outputs": [
    {
     "data": {
      "text/html": [
       "&lt;Column name=&apos;VFID&apos; dtype=&apos;bytes8&apos; length=13&gt;\n",
       "<table>\n",
       "<tr><td>VFID0029</td></tr>\n",
       "<tr><td>VFID0993</td></tr>\n",
       "<tr><td>VFID1312</td></tr>\n",
       "<tr><td>VFID1518</td></tr>\n",
       "<tr><td>VFID2037</td></tr>\n",
       "<tr><td>VFID3286</td></tr>\n",
       "<tr><td>VFID3343</td></tr>\n",
       "<tr><td>VFID4056</td></tr>\n",
       "<tr><td>VFID4269</td></tr>\n",
       "<tr><td>VFID4820</td></tr>\n",
       "<tr><td>VFID4970</td></tr>\n",
       "<tr><td>VFID5241</td></tr>\n",
       "<tr><td>VFID6358</td></tr>\n",
       "</table>"
      ],
      "text/plain": [
       "<Column name='VFID' dtype='bytes8' length=13>\n",
       "VFID0029\n",
       "VFID0993\n",
       "VFID1312\n",
       "VFID1518\n",
       "VFID2037\n",
       "VFID3286\n",
       "VFID3343\n",
       "VFID4056\n",
       "VFID4269\n",
       "VFID4820\n",
       "VFID4970\n",
       "VFID5241\n",
       "VFID6358"
      ]
     },
     "execution_count": 49,
     "metadata": {},
     "output_type": "execute_result"
    }
   ],
   "source": [
    "r_rat = r_psf['re']/r_nopsf['re']\n",
    "r_nopsf['VFID'][r_rat>2]"
   ]
  },
  {
   "cell_type": "code",
   "execution_count": 91,
   "id": "5ebf2bc1-47d2-4f92-b717-7cf1d0caa837",
   "metadata": {},
   "outputs": [],
   "source": [
    "d={\n",
    "    \"mult\":'*',\n",
    "    \"add\":'+',\n",
    "    \"subtr\":'-'}"
   ]
  },
  {
   "cell_type": "code",
   "execution_count": 97,
   "id": "4b6f3649-1701-4b26-aa9a-93ec47cabd4e",
   "metadata": {},
   "outputs": [
    {
     "data": {
      "text/plain": [
       "25"
      ]
     },
     "execution_count": 97,
     "metadata": {},
     "output_type": "execute_result"
    }
   ],
   "source": [
    "eval('5'+d['mult']+'5')"
   ]
  },
  {
   "cell_type": "code",
   "execution_count": 605,
   "id": "a7870817-9ee7-45f9-8b45-78e60458e824",
   "metadata": {},
   "outputs": [],
   "source": [
    "#https://cdsarc.cds.unistra.fr/viz-bin/cat/J/ApJS/245/25#/article"
   ]
  },
  {
   "cell_type": "code",
   "execution_count": 420,
   "id": "cbfff3df-06a0-4d47-9510-79c6871fde52",
   "metadata": {},
   "outputs": [],
   "source": [
    "#sorts in ascending order according to one column's entries\n",
    "re.sort('prefix')"
   ]
  },
  {
   "cell_type": "code",
   "execution_count": 596,
   "id": "2e41badd-fbd1-48be-ac90-159225920cb5",
   "metadata": {},
   "outputs": [],
   "source": [
    "#no psf case; marked galaxies with GALFIT error flags; allWISE (WXSC) vs. unWISE (me)\n",
    "#can't easily compare radii; WXSC reports SMA. unsure whether SMA is full diameter and if it\n",
    "#represents the SMA of the effective radius?\n",
    "\n",
    "#use w3 magnitude instead. \n",
    "eff = re['R3']\n",
    "my_eff = psf_params_v1['re']*2.75/60"
   ]
  },
  {
   "cell_type": "code",
   "execution_count": 603,
   "id": "f47e89c6-6150-429f-b49f-aba8c0cd9c52",
   "metadata": {},
   "outputs": [
    {
     "data": {
      "image/png": "[encoded data removed]",
      "text/plain": [
       "<Figure size 576x432 with 1 Axes>"
      ]
     },
     "metadata": {
      "needs_background": "light"
     },
     "output_type": "display_data"
    },
    {
     "data": {
      "image/png": "[encoded data removed]",
      "text/plain": [
       "<Figure size 576x432 with 1 Axes>"
      ]
     },
     "metadata": {
      "needs_background": "light"
     },
     "output_type": "display_data"
    }
   ],
   "source": [
    "plt.figure(figsize=(8,6))\n",
    "\n",
    "plt.scatter(eff,eff/my_eff/2)\n",
    "plt.grid(alpha=0.3)\n",
    "plt.xlabel('My W3-Re values',fontsize=14)\n",
    "plt.ylabel('WXSC-to-Re ratio',fontsize=14)\n",
    "plt.axhline(1,color='r',linestyle='dashed',alpha=0.4, label='Equivalency Line')\n",
    "\n",
    "err = re_galfit['err_flag']==1\n",
    "plt.scatter(eff[err],eff[err]/my_eff[err]/2,color='red',s=200,facecolor='None',label='GALFIT Errors')\n",
    "\n",
    "#plt.ylim(0,40)\n",
    "plt.yscale('log')\n",
    "plt.legend(fontsize=14)\n",
    "plt.show()\n",
    "\n",
    "plt.figure(figsize=(8,6))\n",
    "plt.scatter(re_galfit['mag'],re['W3mag']-re_galfit['mag'])\n",
    "plt.grid(alpha=0.3)\n",
    "plt.xlabel('My W3mag values',fontsize=14)\n",
    "plt.ylabel(' WXSC W3mag - My W3mag',fontsize=14)\n",
    "#plt.ylim(0,4)\n",
    "\n",
    "plt.axhline(0,color='r',linestyle='dashed',alpha=0.4,label='Equivalency Line')\n",
    "\n",
    "plt.scatter(re_galfit['mag'][err],re['W3mag'][err]-re_galfit['mag'][err],\n",
    "            color='red',s=200,facecolor='None',label='GALFIT Errors')\n",
    "plt.legend(fontsize=14)\n",
    "plt.show()"
   ]
  },
  {
   "cell_type": "code",
   "execution_count": null,
   "id": "4b434e45-6c7e-4d0c-8662-a32fe380f953",
   "metadata": {},
   "outputs": [],
   "source": [
    "#psf_params_v1 --> website values\n",
    "#re_galfit --> Rose's values\n",
    "#re --> WXSC's values"
   ]
  },
  {
   "cell_type": "code",
   "execution_count": null,
   "id": "26a62d86-548d-459f-ad33-299e7506f264",
   "metadata": {},
   "outputs": [],
   "source": []
  },
  {
   "cell_type": "code",
   "execution_count": 75,
   "id": "338f3677-2052-4d52-a2a4-26d8bfa2dfe7",
   "metadata": {},
   "outputs": [
    {
     "data": {
      "image/png": "[encoded data removed]",
      "text/plain": [
       "<Figure size 432x288 with 1 Axes>"
      ]
     },
     "metadata": {
      "needs_background": "light"
     },
     "output_type": "display_data"
    }
   ],
   "source": [
    "roseparams_nopsf=Table.read(homedir+'/vf_html/all_input_fits/output_params_W3_nopsf.fits')\n",
    "roseparams_psf=Table.read(homedir+'/vf_html/all_input_fits/output_params_W3_psf.fits')\n",
    "\n",
    "plt.scatter(roseparams_nopsf['re'][roseparams_psf['re']>0]*2.75,roseparams_psf['re'][roseparams_psf['re']>0]*2.75)\n",
    "plt.axhline(2.75,color='red',alpha=0.3,label='WISE Resolution Limit')\n",
    "plt.axvline(2.75,color='red',alpha=0.3)\n",
    "plt.xscale('log')\n",
    "plt.yscale('log')\n",
    "plt.xlabel('Effective Radius (noPSF)',fontsize=15)\n",
    "plt.ylabel('Effective Radius (PSF)',fontsize=15)\n",
    "plt.legend(fontsize=15)\n",
    "\n",
    "\n",
    "plt.savefig(homedir+'/Desktop/psf_demo.png',dpi=250)"
   ]
  },
  {
   "cell_type": "code",
   "execution_count": 1251,
   "id": "ef6a0c90-6ee9-4f42-bcf0-a689be99e29a",
   "metadata": {},
   "outputs": [],
   "source": [
    "#now that the nopsf-psf troubles are resolved, time to recreate the comparison plots!\n",
    "#already trimmed kimparams_* to be same length as roseparams (target) using v2_snrcoadd.fits VFIDs"
   ]
  },
  {
   "cell_type": "code",
   "execution_count": 1275,
   "id": "07721113-d7c8-41b3-9c93-d195b8e8c0f7",
   "metadata": {},
   "outputs": [],
   "source": [
    "#brief psf diagnosis."
   ]
  },
  {
   "cell_type": "code",
   "execution_count": 1279,
   "id": "d2a98b57-f24c-4fe7-9084-975e79edcad6",
   "metadata": {},
   "outputs": [
    {
     "data": {
      "image/png": "[encoded data removed]",
      "text/plain": [
       "<Figure size 432x288 with 1 Axes>"
      ]
     },
     "metadata": {
      "needs_background": "light"
     },
     "output_type": "display_data"
    },
    {
     "data": {
      "image/png": "[encoded data removed]",
      "text/plain": [
       "<Figure size 432x288 with 1 Axes>"
      ]
     },
     "metadata": {
      "needs_background": "light"
     },
     "output_type": "display_data"
    }
   ],
   "source": [
    "psf_john=fits.getdata(homedir+'/NGC3691-custom-psf-W3.fits')\n",
    "psf_kim=fits.getdata(homedir+'/VFID3985-1713p166psf.fits')\n",
    "plt.imshow(psf_john,origin='lower')\n",
    "plt.title('PSF(John)',fontsize=14)\n",
    "plt.xlim(150,175)\n",
    "plt.ylim(150,175)\n",
    "plt.show()\n",
    "plt.imshow(psf_kim,origin='lower')\n",
    "plt.title('PSF(Kim)',fontsize=14)\n",
    "plt.xlim(150,175)\n",
    "plt.ylim(150,175)\n",
    "plt.show()"
   ]
  },
  {
   "cell_type": "code",
   "execution_count": 1280,
   "id": "d0a94215-960c-411c-ad42-b1eba7c4eab1",
   "metadata": {},
   "outputs": [
    {
     "data": {
      "image/png": "[encoded data removed]",
      "text/plain": [
       "<Figure size 432x288 with 1 Axes>"
      ]
     },
     "metadata": {
      "needs_background": "light"
     },
     "output_type": "display_data"
    }
   ],
   "source": [
    "comp=psf_john/psf_kim\n",
    "plt.imshow(comp,origin='lower')\n",
    "plt.xlim(150,175)\n",
    "plt.ylim(150,175)\n",
    "plt.title('PSF equivalency check',fontsize=14)\n",
    "plt.show()"
   ]
  },
  {
   "cell_type": "code",
   "execution_count": 1300,
   "id": "ec5831b4-8fd7-4da0-9f2d-da62087424d4",
   "metadata": {},
   "outputs": [
    {
     "data": {
      "text/html": [
       "<div><i>Table length=49</i>\n",
       "<table id=\"table140395127611104\" class=\"table-striped table-bordered table-condensed\">\n",
       "<thead><tr><th>ID_v1</th><th>central_v1</th><th>x (px)</th><th>y (px)</th><th>central galaxy</th><th>ID</th><th>RA_ext</th><th>DEC_ext</th><th>RA_cen</th><th>DEC_cen</th></tr></thead>\n",
       "<thead><tr><th>bytes8</th><th>bytes8</th><th>int64</th><th>int64</th><th>bytes8</th><th>bytes8</th><th>float64</th><th>float64</th><th>float64</th><th>float64</th></tr></thead>\n",
       "<tr><td>index22</td><td>VFID0047</td><td>266</td><td>272</td><td>VFID0047</td><td>index22</td><td>132.0145</td><td>73.5289</td><td>131.990334</td><td>73.5393333</td></tr>\n",
       "<tr><td>index188</td><td>VFID0816</td><td>260</td><td>246</td><td>VFID0815</td><td>index188</td><td>213.4575</td><td>57.7685</td><td>213.473601</td><td>57.7714231</td></tr>\n",
       "<tr><td>index313</td><td>VFID1500</td><td>227</td><td>237</td><td>VFID1498</td><td>index313</td><td>174.4598</td><td>47.8807</td><td>174.43375650000002</td><td>47.893123</td></tr>\n",
       "<tr><td>index329</td><td>VFID1578</td><td>100</td><td>118</td><td>VFID1576</td><td>index329</td><td>0.0</td><td>0.0</td><td>177.98854949999998</td><td>46.817019</td></tr>\n",
       "<tr><td>index390</td><td>VFID1963</td><td>281</td><td>313</td><td>VFID1961</td><td>index390</td><td>187.63</td><td>41.6993</td><td>187.651425</td><td>41.6439942</td></tr>\n",
       "<tr><td>index530</td><td>VFID3023</td><td>28</td><td>50</td><td>VFID3020</td><td>index530</td><td>0.0</td><td>0.0</td><td>186.9749609949816</td><td>28.633638591119713</td></tr>\n",
       "<tr><td>index560</td><td>VFID3244</td><td>235</td><td>257</td><td>VFID3241</td><td>index560</td><td>135.6739</td><td>25.9367</td><td>135.6611025</td><td>25.9346276</td></tr>\n",
       "<tr><td>index582</td><td>VFID3414</td><td>233</td><td>233</td><td>VFID3411</td><td>index582</td><td>119.3074</td><td>23.7665</td><td>119.293473</td><td>23.7797771</td></tr>\n",
       "<tr><td>index690</td><td>VFID4168</td><td>271</td><td>230</td><td>VFID4165</td><td>index690</td><td>175.0386</td><td>15.3252</td><td>175.0562655</td><td>15.3423307</td></tr>\n",
       "<tr><td>index808</td><td>VFID4945</td><td>60</td><td>75</td><td>VFID4929</td><td>index808</td><td>0.0</td><td>0.0</td><td>190.697583</td><td>11.4424897</td></tr>\n",
       "<tr><td>...</td><td>...</td><td>...</td><td>...</td><td>...</td><td>...</td><td>...</td><td>...</td><td>...</td><td>...</td></tr>\n",
       "<tr><td>VFID4923</td><td>VFID4928</td><td>289</td><td>287</td><td>VFID4912</td><td>VFID4907</td><td>190.886</td><td>11.582</td><td>190.9165035</td><td>11.5527063</td></tr>\n",
       "<tr><td>VFID4977</td><td>VFID4978</td><td>150</td><td>170</td><td>VFID4962</td><td>VFID4961</td><td>189.136</td><td>11.258</td><td>189.14284049999998</td><td>11.2389012</td></tr>\n",
       "<tr><td>VFID4969</td><td>VFID4980</td><td>456</td><td>359</td><td>VFID4964</td><td>VFID4953</td><td>193.073</td><td>11.314</td><td>193.2332115</td><td>11.2308648</td></tr>\n",
       "<tr><td>VFID5414</td><td>VFID5432</td><td>386</td><td>455</td><td>VFID5416</td><td>VFID5398</td><td>187.749</td><td>8.078</td><td>187.444536</td><td>7.999724</td></tr>\n",
       "<tr><td>VFID5467</td><td>VFID5432</td><td>298</td><td>22</td><td>VFID5416</td><td>VFID5450</td><td>187.408</td><td>7.824</td><td>187.444536</td><td>7.999724</td></tr>\n",
       "<tr><td>VFID5525</td><td>VFID5536</td><td>77</td><td>390</td><td>VFID5519</td><td>VFID5508</td><td>186.229</td><td>7.445</td><td>186.1169205</td><td>7.3167467</td></tr>\n",
       "<tr><td>VFID6035</td><td>VFID6050</td><td>335</td><td>329</td><td>VFID6033</td><td>VFID6018</td><td>215.018</td><td>3.993</td><td>215.08269149999998</td><td>3.9335328</td></tr>\n",
       "<tr><td>VFID6094</td><td>VFID6098</td><td>332</td><td>300</td><td>VFID6081</td><td>VFID6077</td><td>223.427</td><td>3.583</td><td>223.489992</td><td>3.5442626</td></tr>\n",
       "<tr><td>VFID6112</td><td>VFID6104</td><td>394</td><td>181</td><td>VFID6087</td><td>VFID6095</td><td>153.44</td><td>3.425</td><td>153.561621</td><td>3.4664709</td></tr>\n",
       "<tr><td>VFID6426</td><td>VFID6438</td><td>389</td><td>266</td><td>VFID6421</td><td>VFID6409</td><td>226.503</td><td>1.634</td><td>226.621887</td><td>1.6061876</td></tr>\n",
       "</table></div>"
      ],
      "text/plain": [
       "<Table length=49>\n",
       " ID_v1   central_v1 x (px) ... DEC_ext       RA_cen            DEC_cen      \n",
       " bytes8    bytes8   int64  ... float64      float64            float64      \n",
       "-------- ---------- ------ ... ------- ------------------ ------------------\n",
       " index22   VFID0047    266 ... 73.5289         131.990334         73.5393333\n",
       "index188   VFID0816    260 ... 57.7685         213.473601         57.7714231\n",
       "index313   VFID1500    227 ... 47.8807 174.43375650000002          47.893123\n",
       "index329   VFID1578    100 ...     0.0 177.98854949999998          46.817019\n",
       "index390   VFID1963    281 ... 41.6993         187.651425         41.6439942\n",
       "index530   VFID3023     28 ...     0.0  186.9749609949816 28.633638591119713\n",
       "index560   VFID3244    235 ... 25.9367        135.6611025         25.9346276\n",
       "index582   VFID3414    233 ... 23.7665         119.293473         23.7797771\n",
       "index690   VFID4168    271 ... 15.3252        175.0562655         15.3423307\n",
       "index808   VFID4945     60 ...     0.0         190.697583         11.4424897\n",
       "     ...        ...    ... ...     ...                ...                ...\n",
       "VFID4923   VFID4928    289 ...  11.582        190.9165035         11.5527063\n",
       "VFID4977   VFID4978    150 ...  11.258 189.14284049999998         11.2389012\n",
       "VFID4969   VFID4980    456 ...  11.314        193.2332115         11.2308648\n",
       "VFID5414   VFID5432    386 ...   8.078         187.444536           7.999724\n",
       "VFID5467   VFID5432    298 ...   7.824         187.444536           7.999724\n",
       "VFID5525   VFID5536     77 ...   7.445        186.1169205          7.3167467\n",
       "VFID6035   VFID6050    335 ...   3.993 215.08269149999998          3.9335328\n",
       "VFID6094   VFID6098    332 ...   3.583         223.489992          3.5442626\n",
       "VFID6112   VFID6104    394 ...   3.425         153.561621          3.4664709\n",
       "VFID6426   VFID6438    389 ...   1.634         226.621887          1.6061876"
      ]
     },
     "execution_count": 1300,
     "metadata": {},
     "output_type": "execute_result"
    }
   ],
   "source": [
    "dum"
   ]
  }
 ],
 "metadata": {
  "kernelspec": {
   "display_name": "Python 3 (ipykernel)",
   "language": "python",
   "name": "python3"
  },
  "language_info": {
   "codemirror_mode": {
    "name": "ipython",
    "version": 3
   },
   "file_extension": ".py",
   "mimetype": "text/x-python",
   "name": "python",
   "nbconvert_exporter": "python",
   "pygments_lexer": "ipython3",
   "version": "3.8.13"
  }
 },
 "nbformat": 4,
 "nbformat_minor": 5
}
