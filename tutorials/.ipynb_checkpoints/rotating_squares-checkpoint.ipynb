{
 "cells": [
  {
   "cell_type": "code",
   "execution_count": 1,
   "id": "f7bbbcc7-245f-40b3-b5c9-83c929f61048",
   "metadata": {},
   "outputs": [],
   "source": [
    "from matplotlib import pyplot as plt\n",
    "%matplotlib inline\n",
    "import numpy as np"
   ]
  },
  {
   "cell_type": "code",
   "execution_count": 2,
   "id": "6845d701-0ac1-462d-becf-2b7daa44407c",
   "metadata": {},
   "outputs": [],
   "source": [
    "#from https://stackoverflow.com/questions/34372480/rotate-point-about-another-point-in-degrees-python\n",
    "\n",
    "def rotate(point_to_be_rotated, angle, center_point = (0,0)):\n",
    "    angle = angle*np.pi/180\n",
    "    xnew = np.cos(angle)*(point_to_be_rotated[0] - center_point[0]) - np.sin(angle)*(point_to_be_rotated[1] - center_point[1]) + center_point[0]\n",
    "    ynew = np.sin(angle)*(point_to_be_rotated[0] - center_point[0]) + np.cos(angle)*(point_to_be_rotated[1] - center_point[1]) + center_point[1]\n",
    "    \n",
    "    return (round(xnew,2),round(ynew,2))"
   ]
  },
  {
   "cell_type": "code",
   "execution_count": 683,
   "id": "5db7ce69-6163-47f4-a3b8-36ffe67ed2b2",
   "metadata": {},
   "outputs": [],
   "source": [
    "x_one=5\n",
    "y_one=5\n",
    "y_two=10\n",
    "x_two=10"
   ]
  },
  {
   "cell_type": "code",
   "execution_count": 684,
   "id": "6d629af3-abc1-4562-b8d4-49b183751bd4",
   "metadata": {},
   "outputs": [],
   "source": [
    "#find center of 'box'\n",
    "xc = (x_two + x_one)/2\n",
    "yc = (y_two + y_one)/2\n",
    "#all transformations/rotations will be relative to this stationary point."
   ]
  },
  {
   "cell_type": "code",
   "execution_count": 686,
   "id": "0e49fc3b-3530-4171-b9c8-2f5866b8de46",
   "metadata": {},
   "outputs": [
    {
     "data": {
      "image/png": "[encoded data removed]",
      "text/plain": [
       "<Figure size 288x288 with 1 Axes>"
      ]
     },
     "metadata": {
      "needs_background": "light"
     },
     "output_type": "display_data"
    }
   ],
   "source": [
    "plt.figure(figsize=(4,4))\n",
    "\n",
    "plt.scatter(xc,yc)\n",
    "plt.scatter(7.5,3.96)\n",
    "plt.scatter(3.96,7.5)\n",
    "plt.scatter(7.5,11.04)\n",
    "plt.scatter(11.04,7.5)\n",
    "line_one = plt.plot([3.96,7.5],[7.5,3.96],color='crimson',linestyle='--')\n",
    "line_two = plt.plot([7.5,11.04],[3.96,7.5],color='crimson',linestyle='--')\n",
    "line_three = plt.plot([3.96,7.5],[7.5,11.04],color='crimson',linestyle='--')\n",
    "line_four = plt.plot([7.5,11.04],[11.04,7.5],color='crimson',linestyle='--')\n",
    "\n",
    "line_one = plt.plot([x_one,x_one],[y_one,y_two],color='crimson')\n",
    "line_two = plt.plot([x_one,x_two],[y_one,y_one],color='crimson')\n",
    "line_three = plt.plot([x_two,x_two],[y_one,y_two],color='crimson')\n",
    "line_four = plt.plot([x_one,x_two],[y_two,y_two],color='crimson')\n",
    "\n",
    "plt.xlim(0,15)\n",
    "plt.ylim(0,15)\n",
    "plt.show()"
   ]
  },
  {
   "cell_type": "code",
   "execution_count": 687,
   "id": "226fcbdf-6ff3-48a0-917e-5dd05856fd29",
   "metadata": {},
   "outputs": [
    {
     "data": {
      "image/png": "[encoded data removed]",
      "text/plain": [
       "<Figure size 288x288 with 1 Axes>"
      ]
     },
     "metadata": {
      "needs_background": "light"
     },
     "output_type": "display_data"
    }
   ],
   "source": [
    "#this general code should apply to any click events p1 and p2\n",
    "\n",
    "plt.figure(figsize=(4,4))\n",
    "\n",
    "p1=(5,10)\n",
    "p2=(1,6)\n",
    "\n",
    "plt.plot([p1[0],p1[0]],[p1[1],p2[1]],color='black')   #1112\n",
    "plt.plot([p1[0],p2[0]],[p2[1],p2[1]],color='black')   #1212\n",
    "plt.plot([p2[0],p1[0]],[p1[1],p1[1]],color='black')   #2111\n",
    "plt.plot([p2[0],p2[0]],[p1[1],p2[1]],color='black')   #2212\n",
    "\n",
    "plt.scatter(p1[0],p1[1],color='blue',s=60)\n",
    "plt.scatter(p2[0],p2[1],color='crimson',s=60)\n",
    "\n",
    "angle = 60\n",
    "\n",
    "(xc,yc) = ((p1[0]+p2[0])/2, (p1[1]+p2[1])/2)\n",
    "one_rot = rotate(point_to_be_rotated = p1, angle = angle, center_point = (xc,yc))\n",
    "two_rot = rotate(point_to_be_rotated = p2, angle = angle, center_point = (xc,yc))\n",
    "three_rot = rotate(point_to_be_rotated = (p1[0],p2[1]), angle = angle, center_point = (xc,yc))\n",
    "four_rot = rotate(point_to_be_rotated = (p2[0],p1[1]), angle = angle, center_point = (xc,yc))\n",
    "\n",
    "plt.plot([one_rot[0],three_rot[0]],[one_rot[1],three_rot[1]],color='black',linestyle='--')   #1--3\n",
    "plt.plot([one_rot[0],four_rot[0]],[one_rot[1],four_rot[1]],color='black',linestyle='--')     #1--4\n",
    "plt.plot([two_rot[0],three_rot[0]],[two_rot[1],three_rot[1]],color='black',linestyle='--')   #2--3\n",
    "plt.plot([two_rot[0],four_rot[0]],[two_rot[1],four_rot[1]],color='black',linestyle='--')     #2--4\n",
    "\n",
    "plt.scatter(one_rot[0],one_rot[1],color='blue',s=60)\n",
    "plt.scatter(two_rot[0],two_rot[1],color='crimson',s=60)\n",
    "\n",
    "plt.show()"
   ]
  },
  {
   "cell_type": "code",
   "execution_count": 816,
   "id": "3b20340e-362a-4653-ba63-aab3e768bf71",
   "metadata": {},
   "outputs": [],
   "source": [
    "#now I must conjure up a means of extracting pixels from within this rotated creature.\n",
    "#strips eventually. I'll just work with the perimeter for now.\n",
    "\n",
    "#first, I'll rotate points and trace the sides with equations, where each point of the drawn\n",
    "#equation will map onto a pixel coordinate of the background\n",
    "\n",
    "def get_xym(p1,p2,angle=80):\n",
    "    \n",
    "    if angle%90 != 0:      #if angle is not divisible by 90, can rotate using this algorithm. \n",
    "    \n",
    "        (xc,yc) = ((p1[0]+p2[0])/2, (p1[1]+p2[1])/2)\n",
    "        one_rot = rotate(point_to_be_rotated = p1, angle = angle, center_point = (xc,yc))\n",
    "        two_rot = rotate(point_to_be_rotated = p2, angle = angle, center_point = (xc,yc))\n",
    "        three_rot = rotate(point_to_be_rotated = (p1[0],p2[1]), angle = angle, center_point = (xc,yc))\n",
    "        four_rot = rotate(point_to_be_rotated = (p2[0],p1[1]), angle = angle, center_point = (xc,yc))\n",
    "\n",
    "        x1 = np.linspace(one_rot[0],three_rot[0],50)\n",
    "        m1 = (one_rot[1] - three_rot[1])/(one_rot[0] - three_rot[0])\n",
    "        y1 = three_rot[1] + m1*(x1 - three_rot[0])\n",
    "\n",
    "        x2 = np.linspace(one_rot[0],four_rot[0],50)\n",
    "        m2 = (one_rot[1] - four_rot[1])/(one_rot[0] - four_rot[0])\n",
    "        y2 = four_rot[1] + m2*(x2 - four_rot[0])\n",
    "\n",
    "        x3 = np.linspace(two_rot[0],three_rot[0],50)\n",
    "        m3 = (two_rot[1] - three_rot[1])/(two_rot[0] - three_rot[0])\n",
    "        y3 = two_rot[1] + m3*(x3 - two_rot[0])\n",
    "\n",
    "        x4 = np.linspace(two_rot[0],four_rot[0],50)\n",
    "        m4 = (two_rot[1] - four_rot[1])/(two_rot[0] - four_rot[0])\n",
    "        y4 = two_rot[1] + m4*(x4 - two_rot[0])\n",
    "\n",
    "        return [x1,x2,x3,x4],[y1,y2,y3,y4],[m1,m2,m3,m4],angle\n",
    "    \n",
    "    elif (angle/90)%2 == 0:  #if angle is divisible by 90 but is 0, 180, 360, ..., no change to rectangle\n",
    "        x1 = np.zeros(50)+p1[0]\n",
    "        y1 = np.linspace(p2[1],p1[1],50)\n",
    "\n",
    "        x2 = np.linspace(p1[0],p2[0],50)\n",
    "        y2 = np.zeros(50)+p2[1]\n",
    "\n",
    "        x3 = np.linspace(p2[0],p1[0],50)\n",
    "        y3 = np.zeros(50)+p1[1]\n",
    "\n",
    "        x4 = np.zeros(50)+p2[0]\n",
    "        y4 = np.linspace(p1[1],p2[1],50)\n",
    "        \n",
    "        return [x1,x2,x3,x4],[y1,y2,y3,y4],[0,0,0,0],angle\n",
    "   \n",
    "    else:                   #if angle is divisible by 90 but is 90, 270, ..., rectangle perpendicular\n",
    "                            #to the original\n",
    "        y1 = np.zeros(50)+p1[0]\n",
    "        x1 = np.linspace(p2[1],p1[1],50)\n",
    "\n",
    "        y2 = np.linspace(p1[0],p2[0],50)\n",
    "        x2 = np.zeros(50)+p2[1]\n",
    "\n",
    "        y3 = np.linspace(p2[0],p1[0],50)\n",
    "        x3 = np.zeros(50)+p1[1]\n",
    "\n",
    "        y4 = np.zeros(50)+p2[0]\n",
    "        x4 = np.linspace(p1[1],p2[1],50)\n",
    "        \n",
    "        return [x1,x2,x3,x4],[y1,y2,y3,y4],[0,0,0,0],angle"
   ]
  },
  {
   "cell_type": "code",
   "execution_count": 817,
   "id": "2ef4aef0-2a56-4fb0-b625-8ca95324f3d3",
   "metadata": {},
   "outputs": [],
   "source": [
    "def func(x,m,b):\n",
    "    return m*x+b"
   ]
  },
  {
   "cell_type": "code",
   "execution_count": 922,
   "id": "c3192052-b3d5-4359-959d-974232fd1b69",
   "metadata": {},
   "outputs": [
    {
     "data": {
      "image/png": "[encoded data removed]",
      "text/plain": [
       "<Figure size 360x360 with 1 Axes>"
      ]
     },
     "metadata": {
      "needs_background": "light"
     },
     "output_type": "display_data"
    }
   ],
   "source": [
    "x = np.arange(10000).reshape(100,100)\n",
    "\n",
    "p1 = (70,90)\n",
    "p2 = (30,20)\n",
    "    \n",
    "x_vals,y_vals,m_vals,angle = get_xym(p1=p1,p2=p2,angle=180)\n",
    "\n",
    "plt.figure(figsize=(5,5))\n",
    "plt.imshow(x,origin='lower',cmap='rainbow',alpha=0.2)\n",
    "\n",
    "#for i in range(4):\n",
    "#    plt.scatter(x_vals[i],y_vals[i])   #plot the perimeter of the rectangle\n",
    "\n",
    "#initiate lists\n",
    "list_to_mean = []\n",
    "mean_list = []\n",
    "\n",
    "for i in range(50):    #for the entire x extent of the blue (red?) side, \n",
    "                                      #find x range of between blue and red elements, \n",
    "                                      #determine the equation variables to connect these elements\n",
    "                                      #within this desired x range, then plot. proceed to next set\n",
    "                                      #of elements, etc.\n",
    "        \n",
    "    #points from either x4,y4 (index=3) or x1,y1 (index=0)\n",
    "    if angle%90 != 0:\n",
    "        xpoints = np.linspace(x_vals[3][i],x_vals[0][-(i+1)],50)\n",
    "        b = y_vals[0][-(i+1)] - (m_vals[2]*x_vals[0][-(i+1)])\n",
    "        ypoints = func(xpoints,m_vals[2],b)\n",
    "        plt.scatter(xpoints,ypoints,s=1)\n",
    "        \n",
    "        for n in range(len(ypoints)):\n",
    "            list_to_mean.append(x[int(round(ypoints[n],3))][int(xpoints[n])])\n",
    "            x[int(round(ypoints[n],3))][int(xpoints[n])]=False\n",
    "        mean_list.append(np.mean(list_to_mean))\n",
    "        list_to_mean = []\n",
    "    \n",
    "    if (angle/90)%2 == 0:\n",
    "        xpoints = np.linspace(x_vals[3][i],x_vals[0][-(i+1)],50)\n",
    "        b = y_vals[0][-(i+1)] - (m_vals[2]*x_vals[0][-(i+1)])\n",
    "        ypoints = func(xpoints,m_vals[2],b)\n",
    "        plt.scatter(xpoints,ypoints,s=1)\n",
    "        \n",
    "        for n in range(len(ypoints)):\n",
    "            list_to_mean.append(x[int(round(ypoints[n],5))][int(xpoints[n])])\n",
    "            x[int(round(ypoints[n],5))][int(xpoints[n])]=False\n",
    "        mean_list.append(np.mean(list_to_mean))\n",
    "        list_to_mean = []\n",
    "        \n",
    "\n",
    "if ((angle/90)%2 != 0) & (angle%90 == 0):\n",
    "    ypoints = np.linspace(y_vals[3][0],y_vals[0][-1],50)   #y_val start and end are the same at\n",
    "                                                               #every index in this case\n",
    "    list_to_mean = []\n",
    "    mean_list = []\n",
    "    \n",
    "    for i in range(np.abs(p1[1]-p2[1])):\n",
    "        xpoints = x_vals[1]+i        \n",
    "        plt.scatter(xpoints,ypoints,s=1)\n",
    "        for n in range(len(ypoints)):\n",
    "            list_to_mean.append(x[int(round(ypoints[n]),3)][int(xpoints[n])])\n",
    "            x[int(round(ypoints[n]),3)][int(xpoints[n])]=False\n",
    "        mean_list.append(np.mean(list_to_mean))\n",
    "        list_to_mean = []\n",
    "            \n",
    "plt.xlim(0,100)\n",
    "plt.ylim(0,100)\n",
    "plt.show()"
   ]
  },
  {
   "cell_type": "code",
   "execution_count": 923,
   "id": "26293e84-fcb1-4b11-94f1-e0da6e72de6f",
   "metadata": {},
   "outputs": [
    {
     "data": {
      "image/png": "[encoded data removed]",
      "text/plain": [
       "<Figure size 360x360 with 1 Axes>"
      ]
     },
     "metadata": {
      "needs_background": "light"
     },
     "output_type": "display_data"
    }
   ],
   "source": [
    "plt.figure(figsize=(5,5))\n",
    "plt.imshow(x,cmap='rainbow',origin='lower',alpha=0.2)\n",
    "plt.show()"
   ]
  },
  {
   "cell_type": "code",
   "execution_count": null,
   "id": "3fd0ac9c-870e-4d3f-96cc-ace5dc66c9f7",
   "metadata": {},
   "outputs": [],
   "source": [
    "#a wee bit clumpy, but no matter. maybe."
   ]
  },
  {
   "cell_type": "code",
   "execution_count": 769,
   "id": "687fe5f9-5878-41fe-a48a-f0b5e009eb28",
   "metadata": {},
   "outputs": [],
   "source": [
    "#NEXT:\n",
    "    #work to establish the function which extracts the mean pixel value from this strip\n",
    "    #(meaning that I must re-plot the background rainbow screwiness)\n",
    "    #I suppose I can then transition to assigning a spot on the GUI for those arrows..."
   ]
  },
  {
   "cell_type": "code",
   "execution_count": 768,
   "id": "bf8d9cac-892b-4d34-9c62-f2116318ffac",
   "metadata": {},
   "outputs": [],
   "source": [
    "#I COULD HAVE CLICKABLE ARROWS WHICH, ACCORDING TO A STEP SIZE SET BY THE USER, \n",
    "#WILL ROTATE THE SQUARE RECTANGLE DOOHICKEY. "
   ]
  },
  {
   "cell_type": "code",
   "execution_count": null,
   "id": "7889a887-fae9-4126-a164-fae22be84c18",
   "metadata": {},
   "outputs": [],
   "source": []
  }
 ],
 "metadata": {
  "kernelspec": {
   "display_name": "Python 3 (ipykernel)",
   "language": "python",
   "name": "python3"
  },
  "language_info": {
   "codemirror_mode": {
    "name": "ipython",
    "version": 3
   },
   "file_extension": ".py",
   "mimetype": "text/x-python",
   "name": "python",
   "nbconvert_exporter": "python",
   "pygments_lexer": "ipython3",
   "version": "3.8.13"
  }
 },
 "nbformat": 4,
 "nbformat_minor": 5
}
